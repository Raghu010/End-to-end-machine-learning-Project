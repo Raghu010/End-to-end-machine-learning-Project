{
 "cells": [
  {
   "cell_type": "markdown",
   "source": [
    "## Importing the libraries"
   ],
   "metadata": {
    "collapsed": false
   }
  },
  {
   "cell_type": "code",
   "execution_count": 1,
   "outputs": [],
   "source": [
    "import numpy as np\n",
    "import pandas as pd\n",
    "import matplotlib.pyplot as plt\n",
    "import seaborn as sns\n",
    "#Modelling\n",
    "from sklearn.metrics import mean_squared_error,r2_score\n",
    "from sklearn.neighbors import KNeighborsRegressor\n",
    "from sklearn.tree import DecisionTreeRegressor\n",
    "from sklearn.ensemble import RandomForestRegressor, AdaBoostRegressor\n",
    "from sklearn.svm import SVR\n",
    "from sklearn.linear_model import LinearRegression, Ridge, Lasso\n",
    "from sklearn.metrics import  r2_score, mean_absolute_error, mean_squared_error\n",
    "from sklearn.model_selection import RandomizedSearchCV\n",
    "from catboost import CatBoostRegressor\n",
    "from xgboost import XGBRegressor\n",
    "import warnings"
   ],
   "metadata": {
    "collapsed": false,
    "ExecuteTime": {
     "start_time": "2023-04-10T14:34:23.035693Z",
     "end_time": "2023-04-10T14:34:28.939267Z"
    }
   }
  },
  {
   "cell_type": "markdown",
   "source": [
    "## Reading The data"
   ],
   "metadata": {
    "collapsed": false
   }
  },
  {
   "cell_type": "code",
   "execution_count": 2,
   "metadata": {
    "collapsed": true,
    "ExecuteTime": {
     "start_time": "2023-04-10T14:34:28.919263Z",
     "end_time": "2023-04-10T14:34:29.322558Z"
    }
   },
   "outputs": [
    {
     "data": {
      "text/plain": "   gender race_ethnicity parental_level_of_education         lunch  \\\n0  female        group B           bachelor's degree      standard   \n1  female        group C                some college      standard   \n2  female        group B             master's degree      standard   \n3    male        group A          associate's degree  free/reduced   \n4    male        group C                some college      standard   \n\n  test_preparation_course  math_score  reading_score  writing_score  \n0                    none          72             72             74  \n1               completed          69             90             88  \n2                    none          90             95             93  \n3                    none          47             57             44  \n4                    none          76             78             75  ",
      "text/html": "<div>\n<style scoped>\n    .dataframe tbody tr th:only-of-type {\n        vertical-align: middle;\n    }\n\n    .dataframe tbody tr th {\n        vertical-align: top;\n    }\n\n    .dataframe thead th {\n        text-align: right;\n    }\n</style>\n<table border=\"1\" class=\"dataframe\">\n  <thead>\n    <tr style=\"text-align: right;\">\n      <th></th>\n      <th>gender</th>\n      <th>race_ethnicity</th>\n      <th>parental_level_of_education</th>\n      <th>lunch</th>\n      <th>test_preparation_course</th>\n      <th>math_score</th>\n      <th>reading_score</th>\n      <th>writing_score</th>\n    </tr>\n  </thead>\n  <tbody>\n    <tr>\n      <th>0</th>\n      <td>female</td>\n      <td>group B</td>\n      <td>bachelor's degree</td>\n      <td>standard</td>\n      <td>none</td>\n      <td>72</td>\n      <td>72</td>\n      <td>74</td>\n    </tr>\n    <tr>\n      <th>1</th>\n      <td>female</td>\n      <td>group C</td>\n      <td>some college</td>\n      <td>standard</td>\n      <td>completed</td>\n      <td>69</td>\n      <td>90</td>\n      <td>88</td>\n    </tr>\n    <tr>\n      <th>2</th>\n      <td>female</td>\n      <td>group B</td>\n      <td>master's degree</td>\n      <td>standard</td>\n      <td>none</td>\n      <td>90</td>\n      <td>95</td>\n      <td>93</td>\n    </tr>\n    <tr>\n      <th>3</th>\n      <td>male</td>\n      <td>group A</td>\n      <td>associate's degree</td>\n      <td>free/reduced</td>\n      <td>none</td>\n      <td>47</td>\n      <td>57</td>\n      <td>44</td>\n    </tr>\n    <tr>\n      <th>4</th>\n      <td>male</td>\n      <td>group C</td>\n      <td>some college</td>\n      <td>standard</td>\n      <td>none</td>\n      <td>76</td>\n      <td>78</td>\n      <td>75</td>\n    </tr>\n  </tbody>\n</table>\n</div>"
     },
     "execution_count": 2,
     "metadata": {},
     "output_type": "execute_result"
    }
   ],
   "source": [
    "df = pd.read_csv('C:\\\\Users\\\\user\\\\Documents\\\\datasets\\\\stud.csv')\n",
    "df.head()"
   ]
  },
  {
   "cell_type": "markdown",
   "source": [
    "## Preparing X and Y Variables"
   ],
   "metadata": {
    "collapsed": false
   }
  },
  {
   "cell_type": "code",
   "execution_count": 3,
   "outputs": [],
   "source": [
    "X = df.drop(columns = 'math_score', axis = 1)"
   ],
   "metadata": {
    "collapsed": false,
    "ExecuteTime": {
     "start_time": "2023-04-10T14:34:29.218492Z",
     "end_time": "2023-04-10T14:34:29.328556Z"
    }
   }
  },
  {
   "cell_type": "code",
   "execution_count": 4,
   "outputs": [
    {
     "data": {
      "text/plain": "   gender race_ethnicity parental_level_of_education         lunch  \\\n0  female        group B           bachelor's degree      standard   \n1  female        group C                some college      standard   \n2  female        group B             master's degree      standard   \n3    male        group A          associate's degree  free/reduced   \n4    male        group C                some college      standard   \n\n  test_preparation_course  reading_score  writing_score  \n0                    none             72             74  \n1               completed             90             88  \n2                    none             95             93  \n3                    none             57             44  \n4                    none             78             75  ",
      "text/html": "<div>\n<style scoped>\n    .dataframe tbody tr th:only-of-type {\n        vertical-align: middle;\n    }\n\n    .dataframe tbody tr th {\n        vertical-align: top;\n    }\n\n    .dataframe thead th {\n        text-align: right;\n    }\n</style>\n<table border=\"1\" class=\"dataframe\">\n  <thead>\n    <tr style=\"text-align: right;\">\n      <th></th>\n      <th>gender</th>\n      <th>race_ethnicity</th>\n      <th>parental_level_of_education</th>\n      <th>lunch</th>\n      <th>test_preparation_course</th>\n      <th>reading_score</th>\n      <th>writing_score</th>\n    </tr>\n  </thead>\n  <tbody>\n    <tr>\n      <th>0</th>\n      <td>female</td>\n      <td>group B</td>\n      <td>bachelor's degree</td>\n      <td>standard</td>\n      <td>none</td>\n      <td>72</td>\n      <td>74</td>\n    </tr>\n    <tr>\n      <th>1</th>\n      <td>female</td>\n      <td>group C</td>\n      <td>some college</td>\n      <td>standard</td>\n      <td>completed</td>\n      <td>90</td>\n      <td>88</td>\n    </tr>\n    <tr>\n      <th>2</th>\n      <td>female</td>\n      <td>group B</td>\n      <td>master's degree</td>\n      <td>standard</td>\n      <td>none</td>\n      <td>95</td>\n      <td>93</td>\n    </tr>\n    <tr>\n      <th>3</th>\n      <td>male</td>\n      <td>group A</td>\n      <td>associate's degree</td>\n      <td>free/reduced</td>\n      <td>none</td>\n      <td>57</td>\n      <td>44</td>\n    </tr>\n    <tr>\n      <th>4</th>\n      <td>male</td>\n      <td>group C</td>\n      <td>some college</td>\n      <td>standard</td>\n      <td>none</td>\n      <td>78</td>\n      <td>75</td>\n    </tr>\n  </tbody>\n</table>\n</div>"
     },
     "execution_count": 4,
     "metadata": {},
     "output_type": "execute_result"
    }
   ],
   "source": [
    "X.head()"
   ],
   "metadata": {
    "collapsed": false,
    "ExecuteTime": {
     "start_time": "2023-04-10T14:34:29.313553Z",
     "end_time": "2023-04-10T14:34:29.503672Z"
    }
   }
  },
  {
   "cell_type": "code",
   "execution_count": 5,
   "outputs": [],
   "source": [
    "y = df['math_score']"
   ],
   "metadata": {
    "collapsed": false,
    "ExecuteTime": {
     "start_time": "2023-04-10T14:34:29.432657Z",
     "end_time": "2023-04-10T14:34:29.627351Z"
    }
   }
  },
  {
   "cell_type": "code",
   "execution_count": 6,
   "outputs": [
    {
     "data": {
      "text/plain": "0    72\n1    69\n2    90\n3    47\n4    76\nName: math_score, dtype: int64"
     },
     "execution_count": 6,
     "metadata": {},
     "output_type": "execute_result"
    }
   ],
   "source": [
    "y.head()"
   ],
   "metadata": {
    "collapsed": false,
    "ExecuteTime": {
     "start_time": "2023-04-10T14:34:29.563687Z",
     "end_time": "2023-04-10T14:34:30.244452Z"
    }
   }
  },
  {
   "cell_type": "code",
   "execution_count": 7,
   "outputs": [
    {
     "name": "stdout",
     "output_type": "stream",
     "text": [
      "Categories in 'gender' variable:  ['female' 'male']\n",
      "Categories in 'race_ethnicity' variable:  ['group B' 'group C' 'group A' 'group D' 'group E']\n",
      "Categories in 'parental_level_of_education' variable:  [\"bachelor's degree\" 'some college' \"master's degree\" \"associate's degree\"\n",
      " 'high school' 'some high school']\n",
      "Categories in 'lunch' variable:  ['standard' 'free/reduced']\n",
      "Categories in 'test_preparation_course' variable:  ['standard' 'free/reduced']\n"
     ]
    }
   ],
   "source": [
    "print(\"Categories in 'gender' variable: \", end = \" \")\n",
    "print(df['gender'].unique())\n",
    "\n",
    "print(\"Categories in 'race_ethnicity' variable: \", end = \" \")\n",
    "print(df['race_ethnicity'].unique())\n",
    "\n",
    "print(\"Categories in 'parental_level_of_education' variable: \", end = \" \")\n",
    "print(df['parental_level_of_education'].unique())\n",
    "\n",
    "print(\"Categories in 'lunch' variable: \", end = \" \")\n",
    "print(df['lunch'].unique())\n",
    "\n",
    "print(\"Categories in 'test_preparation_course' variable: \", end = \" \")\n",
    "print(df['lunch'].unique())"
   ],
   "metadata": {
    "collapsed": false,
    "ExecuteTime": {
     "start_time": "2023-04-10T14:34:29.931968Z",
     "end_time": "2023-04-10T14:34:30.642760Z"
    }
   }
  },
  {
   "cell_type": "code",
   "execution_count": 8,
   "outputs": [],
   "source": [
    "num_features = X.select_dtypes(exclude='object').columns\n",
    "cat_features = X.select_dtypes(include='object').columns\n",
    "\n",
    "from sklearn.preprocessing import OneHotEncoder, StandardScaler\n",
    "from sklearn.compose import ColumnTransformer\n",
    "\n",
    "numeric_transformer = StandardScaler()\n",
    "oh_transformer = OneHotEncoder()\n",
    "\n",
    "preprocessor = ColumnTransformer(\n",
    "    [\n",
    "    (\"OneHotEncoder\", oh_transformer, cat_features),\n",
    "    (\"StandardScaler\", numeric_transformer, num_features),\n",
    "    ]\n",
    ")"
   ],
   "metadata": {
    "collapsed": false,
    "ExecuteTime": {
     "start_time": "2023-04-10T14:34:30.079926Z",
     "end_time": "2023-04-10T14:34:31.218524Z"
    }
   }
  },
  {
   "cell_type": "code",
   "execution_count": 9,
   "outputs": [],
   "source": [
    "X = preprocessor.fit_transform(X)"
   ],
   "metadata": {
    "collapsed": false,
    "ExecuteTime": {
     "start_time": "2023-04-10T14:34:30.232449Z",
     "end_time": "2023-04-10T14:34:31.472181Z"
    }
   }
  },
  {
   "cell_type": "code",
   "execution_count": 10,
   "outputs": [
    {
     "data": {
      "text/plain": "(1000, 19)"
     },
     "execution_count": 10,
     "metadata": {},
     "output_type": "execute_result"
    }
   ],
   "source": [
    "X.shape"
   ],
   "metadata": {
    "collapsed": false,
    "ExecuteTime": {
     "start_time": "2023-04-10T14:34:30.301468Z",
     "end_time": "2023-04-10T14:34:31.566206Z"
    }
   }
  },
  {
   "cell_type": "code",
   "execution_count": 11,
   "outputs": [
    {
     "data": {
      "text/plain": "((800, 19), (200, 19))"
     },
     "execution_count": 11,
     "metadata": {},
     "output_type": "execute_result"
    }
   ],
   "source": [
    "from sklearn.model_selection import  train_test_split\n",
    "X_train, X_test, y_train, y_test = train_test_split(X, y, test_size=0.2,random_state=42)\n",
    "X_train.shape, X_test.shape"
   ],
   "metadata": {
    "collapsed": false,
    "ExecuteTime": {
     "start_time": "2023-04-10T14:34:30.354233Z",
     "end_time": "2023-04-10T14:34:31.568204Z"
    }
   }
  },
  {
   "cell_type": "markdown",
   "source": [
    "## Create an Evaluate function to give all metrics after model Training"
   ],
   "metadata": {
    "collapsed": false
   }
  },
  {
   "cell_type": "code",
   "execution_count": 12,
   "outputs": [],
   "source": [
    "def evaluate_model(true, predicted):\n",
    "    mae = mean_absolute_error(true, predicted)\n",
    "    mse = mean_squared_error(true, predicted)\n",
    "    rmse = np.sqrt(mean_squared_error(true, predicted))\n",
    "    r2_square = r2_score(true, predicted)\n",
    "    return mae, rmse, r2_square"
   ],
   "metadata": {
    "collapsed": false,
    "ExecuteTime": {
     "start_time": "2023-04-10T14:34:30.458713Z",
     "end_time": "2023-04-10T14:34:31.569205Z"
    }
   }
  },
  {
   "cell_type": "code",
   "execution_count": 13,
   "outputs": [
    {
     "name": "stdout",
     "output_type": "stream",
     "text": [
      "LinearRegression\n",
      "Model performance for training set\n",
      "- Root mean square error: 5.3261\n",
      "- Mean absolute error: 4.2711\n",
      "- R2 score: 0.8742\n",
      "--------------------------------------------------------------------\n",
      "Model performance for test set\n",
      "- Root mean square error: 5.3893\n",
      "- Mean absolute error: 4.2061\n",
      "- R2 score: 0.8806\n",
      "===================================\n",
      "\n",
      "\n",
      "Lasso\n",
      "Model performance for training set\n",
      "- Root mean square error: 6.5938\n",
      "- Mean absolute error: 5.2063\n",
      "- R2 score: 0.8071\n",
      "--------------------------------------------------------------------\n",
      "Model performance for test set\n",
      "- Root mean square error: 6.5197\n",
      "- Mean absolute error: 5.1579\n",
      "- R2 score: 0.8253\n",
      "===================================\n",
      "\n",
      "\n",
      "Ridge\n",
      "Model performance for training set\n",
      "- Root mean square error: 5.3233\n",
      "- Mean absolute error: 4.2650\n",
      "- R2 score: 0.8743\n",
      "--------------------------------------------------------------------\n",
      "Model performance for test set\n",
      "- Root mean square error: 5.3904\n",
      "- Mean absolute error: 4.2111\n",
      "- R2 score: 0.8806\n",
      "===================================\n",
      "\n",
      "\n",
      "K-Neighbors Regressor\n",
      "Model performance for training set\n",
      "- Root mean square error: 5.7133\n",
      "- Mean absolute error: 4.5217\n",
      "- R2 score: 0.8552\n",
      "--------------------------------------------------------------------\n",
      "Model performance for test set\n",
      "- Root mean square error: 7.2412\n",
      "- Mean absolute error: 5.6110\n",
      "- R2 score: 0.7845\n",
      "===================================\n",
      "\n",
      "\n",
      "Decision Tree\n",
      "Model performance for training set\n",
      "- Root mean square error: 0.2795\n",
      "- Mean absolute error: 0.0187\n",
      "- R2 score: 0.9997\n",
      "--------------------------------------------------------------------\n",
      "Model performance for test set\n",
      "- Root mean square error: 7.8537\n",
      "- Mean absolute error: 6.2900\n",
      "- R2 score: 0.7465\n",
      "===================================\n",
      "\n",
      "\n",
      "Random Forest Regressor\n",
      "Model performance for training set\n",
      "- Root mean square error: 2.2831\n",
      "- Mean absolute error: 1.8143\n",
      "- R2 score: 0.9769\n",
      "--------------------------------------------------------------------\n",
      "Model performance for test set\n",
      "- Root mean square error: 6.0054\n",
      "- Mean absolute error: 4.6437\n",
      "- R2 score: 0.8518\n",
      "===================================\n",
      "\n",
      "\n",
      "XGBRegressor\n",
      "Model performance for training set\n",
      "- Root mean square error: 0.9087\n",
      "- Mean absolute error: 0.6148\n",
      "- R2 score: 0.9963\n",
      "--------------------------------------------------------------------\n",
      "Model performance for test set\n",
      "- Root mean square error: 6.5889\n",
      "- Mean absolute error: 5.0844\n",
      "- R2 score: 0.8216\n",
      "===================================\n",
      "\n",
      "\n",
      "CatBoosting Regressor\n",
      "Model performance for training set\n",
      "- Root mean square error: 3.0427\n",
      "- Mean absolute error: 2.4054\n",
      "- R2 score: 0.9589\n",
      "--------------------------------------------------------------------\n",
      "Model performance for test set\n",
      "- Root mean square error: 6.0086\n",
      "- Mean absolute error: 4.6125\n",
      "- R2 score: 0.8516\n",
      "===================================\n",
      "\n",
      "\n",
      "AdaBoost Regressor\n",
      "Model performance for training set\n",
      "- Root mean square error: 5.7516\n",
      "- Mean absolute error: 4.7339\n",
      "- R2 score: 0.8533\n",
      "--------------------------------------------------------------------\n",
      "Model performance for test set\n",
      "- Root mean square error: 5.9874\n",
      "- Mean absolute error: 4.6580\n",
      "- R2 score: 0.8527\n",
      "===================================\n",
      "\n",
      "\n"
     ]
    }
   ],
   "source": [
    "models = {\n",
    "    \"LinearRegression\": LinearRegression(),\n",
    "    \"Lasso\": Lasso(),\n",
    "    \"Ridge\": Ridge(),\n",
    "    \"K-Neighbors Regressor\": KNeighborsRegressor(),\n",
    "    \"Decision Tree\": DecisionTreeRegressor(),\n",
    "    \"Random Forest Regressor\": RandomForestRegressor(),\n",
    "    \"XGBRegressor\": XGBRegressor(),\n",
    "    \"CatBoosting Regressor\": CatBoostRegressor(verbose=False),\n",
    "    \"AdaBoost Regressor\": AdaBoostRegressor()\n",
    "}\n",
    "model_list = []\n",
    "r2_list = []\n",
    "\n",
    "for i in range(len(list(models))):\n",
    "    model = list(models.values())[i]\n",
    "    model.fit(X_train, y_train)\n",
    "\n",
    "    y_train_pred = model.predict(X_train)\n",
    "    y_test_pred = model.predict(X_test)\n",
    "\n",
    "    model_train_mae, model_train_rmse, model_train_r2 = evaluate_model(y_train, y_train_pred)\n",
    "    model_test_mae, model_test_rmse, model_test_r2 = evaluate_model(y_test, y_test_pred)\n",
    "\n",
    "    print(list(models.keys())[i])\n",
    "    model_list.append(list(models.keys())[i])\n",
    "\n",
    "    print('Model performance for training set')\n",
    "    print(\"- Root mean square error: {:.4f}\".format(model_train_rmse))\n",
    "    print(\"- Mean absolute error: {:.4f}\".format(model_train_mae))\n",
    "    print(\"- R2 score: {:.4f}\".format(model_train_r2))\n",
    "\n",
    "    print(\"--------------------------------------------------------------------\")\n",
    "\n",
    "    print('Model performance for test set')\n",
    "    print(\"- Root mean square error: {:.4f}\".format(model_test_rmse))\n",
    "    print(\"- Mean absolute error: {:.4f}\".format(model_test_mae))\n",
    "    print(\"- R2 score: {:.4f}\".format(model_test_r2))\n",
    "    r2_list.append(model_test_r2)\n",
    "\n",
    "    print(\"=\"*35)\n",
    "    print('\\n')"
   ],
   "metadata": {
    "collapsed": false,
    "ExecuteTime": {
     "start_time": "2023-04-10T14:34:30.621762Z",
     "end_time": "2023-04-10T14:34:43.596375Z"
    }
   }
  },
  {
   "cell_type": "markdown",
   "source": [
    "## Results"
   ],
   "metadata": {
    "collapsed": false
   }
  },
  {
   "cell_type": "code",
   "execution_count": 14,
   "outputs": [
    {
     "data": {
      "text/plain": "                Model Name  R2_score\n0         LinearRegression  0.880642\n2                    Ridge  0.880593\n8       AdaBoost Regressor  0.852677\n5  Random Forest Regressor  0.851791\n7    CatBoosting Regressor  0.851632\n1                    Lasso  0.825320\n6             XGBRegressor  0.821589\n3    K-Neighbors Regressor  0.784518\n4            Decision Tree  0.746526",
      "text/html": "<div>\n<style scoped>\n    .dataframe tbody tr th:only-of-type {\n        vertical-align: middle;\n    }\n\n    .dataframe tbody tr th {\n        vertical-align: top;\n    }\n\n    .dataframe thead th {\n        text-align: right;\n    }\n</style>\n<table border=\"1\" class=\"dataframe\">\n  <thead>\n    <tr style=\"text-align: right;\">\n      <th></th>\n      <th>Model Name</th>\n      <th>R2_score</th>\n    </tr>\n  </thead>\n  <tbody>\n    <tr>\n      <th>0</th>\n      <td>LinearRegression</td>\n      <td>0.880642</td>\n    </tr>\n    <tr>\n      <th>2</th>\n      <td>Ridge</td>\n      <td>0.880593</td>\n    </tr>\n    <tr>\n      <th>8</th>\n      <td>AdaBoost Regressor</td>\n      <td>0.852677</td>\n    </tr>\n    <tr>\n      <th>5</th>\n      <td>Random Forest Regressor</td>\n      <td>0.851791</td>\n    </tr>\n    <tr>\n      <th>7</th>\n      <td>CatBoosting Regressor</td>\n      <td>0.851632</td>\n    </tr>\n    <tr>\n      <th>1</th>\n      <td>Lasso</td>\n      <td>0.825320</td>\n    </tr>\n    <tr>\n      <th>6</th>\n      <td>XGBRegressor</td>\n      <td>0.821589</td>\n    </tr>\n    <tr>\n      <th>3</th>\n      <td>K-Neighbors Regressor</td>\n      <td>0.784518</td>\n    </tr>\n    <tr>\n      <th>4</th>\n      <td>Decision Tree</td>\n      <td>0.746526</td>\n    </tr>\n  </tbody>\n</table>\n</div>"
     },
     "execution_count": 14,
     "metadata": {},
     "output_type": "execute_result"
    }
   ],
   "source": [
    "pd.DataFrame(list(zip(model_list,r2_list)), columns=['Model Name', 'R2_score']).sort_values(by=[\"R2_score\"], ascending=False)"
   ],
   "metadata": {
    "collapsed": false,
    "ExecuteTime": {
     "start_time": "2023-04-10T14:34:43.582374Z",
     "end_time": "2023-04-10T14:34:43.734065Z"
    }
   }
  },
  {
   "cell_type": "markdown",
   "source": [
    "## Linear Model"
   ],
   "metadata": {
    "collapsed": false
   }
  },
  {
   "cell_type": "code",
   "execution_count": 15,
   "outputs": [
    {
     "name": "stdout",
     "output_type": "stream",
     "text": [
      "accuracy of the model is 88.06\n"
     ]
    }
   ],
   "source": [
    "lin_model = LinearRegression(fit_intercept=True)\n",
    "lin_model = lin_model.fit(X_train, y_train)\n",
    "y_pred = lin_model.predict(X_test)\n",
    "score = r2_score(y_test, y_pred)*100\n",
    "print(\"accuracy of the model is %.2f\"%score)"
   ],
   "metadata": {
    "collapsed": false,
    "ExecuteTime": {
     "start_time": "2023-04-10T14:34:43.646389Z",
     "end_time": "2023-04-10T14:34:43.775075Z"
    }
   }
  },
  {
   "cell_type": "markdown",
   "source": [
    "## Plot y_pred and y_test"
   ],
   "metadata": {
    "collapsed": false
   }
  },
  {
   "cell_type": "code",
   "execution_count": 16,
   "outputs": [
    {
     "data": {
      "text/plain": "Text(0, 0.5, 'Predicted')"
     },
     "execution_count": 16,
     "metadata": {},
     "output_type": "execute_result"
    },
    {
     "data": {
      "text/plain": "<Figure size 640x480 with 1 Axes>",
      "image/png": "[encoded data removed]"
     },
     "metadata": {},
     "output_type": "display_data"
    }
   ],
   "source": [
    "plt.scatter(y_test, y_pred)\n",
    "plt.xlabel('Actual')\n",
    "plt.ylabel('Predicted')"
   ],
   "metadata": {
    "collapsed": false,
    "ExecuteTime": {
     "start_time": "2023-04-10T14:34:43.730063Z",
     "end_time": "2023-04-10T14:34:46.748290Z"
    }
   }
  },
  {
   "cell_type": "code",
   "execution_count": 17,
   "outputs": [
    {
     "data": {
      "text/plain": "<Axes: xlabel='math_score'>"
     },
     "execution_count": 17,
     "metadata": {},
     "output_type": "execute_result"
    },
    {
     "data": {
      "text/plain": "<Figure size 640x480 with 1 Axes>",
      "image/png": "[encoded data removed]"
     },
     "metadata": {},
     "output_type": "display_data"
    }
   ],
   "source": [
    "sns.regplot(x=y_test,y=y_pred,ci=None,color='Red')"
   ],
   "metadata": {
    "collapsed": false,
    "ExecuteTime": {
     "start_time": "2023-04-10T14:34:46.213213Z",
     "end_time": "2023-04-10T14:34:48.811769Z"
    }
   }
  },
  {
   "cell_type": "markdown",
   "source": [
    "## Difference between actual and predicted Values"
   ],
   "metadata": {
    "collapsed": false
   }
  },
  {
   "cell_type": "code",
   "execution_count": 18,
   "outputs": [
    {
     "data": {
      "text/plain": "     Actual Values  Predicted_Values  Difference\n521             91         76.453125   14.546875\n737             53         59.000000   -6.000000\n740             80         76.968750    3.031250\n660             74         76.968750   -2.968750\n411             84         87.812500   -3.812500\n..             ...               ...         ...\n408             52         43.546875    8.453125\n332             62         62.250000   -0.250000\n208             74         67.750000    6.250000\n613             65         67.046875   -2.046875\n78              61         62.500000   -1.500000\n\n[200 rows x 3 columns]",
      "text/html": "<div>\n<style scoped>\n    .dataframe tbody tr th:only-of-type {\n        vertical-align: middle;\n    }\n\n    .dataframe tbody tr th {\n        vertical-align: top;\n    }\n\n    .dataframe thead th {\n        text-align: right;\n    }\n</style>\n<table border=\"1\" class=\"dataframe\">\n  <thead>\n    <tr style=\"text-align: right;\">\n      <th></th>\n      <th>Actual Values</th>\n      <th>Predicted_Values</th>\n      <th>Difference</th>\n    </tr>\n  </thead>\n  <tbody>\n    <tr>\n      <th>521</th>\n      <td>91</td>\n      <td>76.453125</td>\n      <td>14.546875</td>\n    </tr>\n    <tr>\n      <th>737</th>\n      <td>53</td>\n      <td>59.000000</td>\n      <td>-6.000000</td>\n    </tr>\n    <tr>\n      <th>740</th>\n      <td>80</td>\n      <td>76.968750</td>\n      <td>3.031250</td>\n    </tr>\n    <tr>\n      <th>660</th>\n      <td>74</td>\n      <td>76.968750</td>\n      <td>-2.968750</td>\n    </tr>\n    <tr>\n      <th>411</th>\n      <td>84</td>\n      <td>87.812500</td>\n      <td>-3.812500</td>\n    </tr>\n    <tr>\n      <th>...</th>\n      <td>...</td>\n      <td>...</td>\n      <td>...</td>\n    </tr>\n    <tr>\n      <th>408</th>\n      <td>52</td>\n      <td>43.546875</td>\n      <td>8.453125</td>\n    </tr>\n    <tr>\n      <th>332</th>\n      <td>62</td>\n      <td>62.250000</td>\n      <td>-0.250000</td>\n    </tr>\n    <tr>\n      <th>208</th>\n      <td>74</td>\n      <td>67.750000</td>\n      <td>6.250000</td>\n    </tr>\n    <tr>\n      <th>613</th>\n      <td>65</td>\n      <td>67.046875</td>\n      <td>-2.046875</td>\n    </tr>\n    <tr>\n      <th>78</th>\n      <td>61</td>\n      <td>62.500000</td>\n      <td>-1.500000</td>\n    </tr>\n  </tbody>\n</table>\n<p>200 rows × 3 columns</p>\n</div>"
     },
     "execution_count": 18,
     "metadata": {},
     "output_type": "execute_result"
    }
   ],
   "source": [
    "pred_df = pd.DataFrame({\"Actual Values\": y_test, \"Predicted_Values\": y_pred, \"Difference\": y_test - y_pred})\n",
    "pred_df"
   ],
   "metadata": {
    "collapsed": false,
    "ExecuteTime": {
     "start_time": "2023-04-10T14:34:48.801767Z",
     "end_time": "2023-04-10T14:34:49.160277Z"
    }
   }
  },
  {
   "cell_type": "code",
   "execution_count": null,
   "outputs": [],
   "source": [],
   "metadata": {
    "collapsed": false
   }
  }
 ],
 "metadata": {
  "kernelspec": {
   "display_name": "Python 3",
   "language": "python",
   "name": "python3"
  },
  "language_info": {
   "codemirror_mode": {
    "name": "ipython",
    "version": 2
   },
   "file_extension": ".py",
   "mimetype": "text/x-python",
   "name": "python",
   "nbconvert_exporter": "python",
   "pygments_lexer": "ipython2",
   "version": "2.7.6"
  }
 },
 "nbformat": 4,
 "nbformat_minor": 0
}
